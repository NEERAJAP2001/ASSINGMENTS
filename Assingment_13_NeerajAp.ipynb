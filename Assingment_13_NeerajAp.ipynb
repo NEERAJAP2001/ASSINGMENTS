{
 "cells": [
  {
   "cell_type": "markdown",
   "metadata": {},
   "source": [
    "## TUPLES:"
   ]
  },
  {
   "cell_type": "code",
   "execution_count": 10,
   "metadata": {},
   "outputs": [
    {
     "name": "stdout",
     "output_type": "stream",
     "text": [
      "(10, 20, 30, 50, 60)\n",
      "(120, 'AA', 43.12)\n",
      "('icon', 'AA', 'Bunny')\n",
      "(120, 'icon')\n",
      " tuple length :  3\n",
      "{'king': 1, 'queen': 2}\n",
      "(92, 66, 22.2, 'icon', 120)\n",
      "[('king', 1), ('quuen', 2)]\n",
      "(123, 'king', 77, 99)\n"
     ]
    }
   ],
   "source": [
    "##create a tuple\n",
    "tip=(10,20,30,50,60)\n",
    "print(tip)\n",
    "\n",
    "##diffrent datatypes\n",
    "star=(120,\"AA\",43.12)\n",
    "print(star)\n",
    "\n",
    "##tuple to string\n",
    "star=(\"icon\",\"AA\",\"Bunny\")\n",
    "my_fav=str(star)\n",
    "print(my_fav)\n",
    "\n",
    "\n",
    "##slice a tuple\n",
    "star=(120,\"icon\",22.2)\n",
    "king=star[:2]\n",
    "print(king)\n",
    "\n",
    "\n",
    "##find length of tuple\n",
    "\n",
    "star=(120,\"icon\",22.2)\n",
    "print( \" tuple length : \", len(star))\n",
    "\n",
    "\n",
    "\n",
    "##tuple to dictinary\n",
    "t=((1,'king'), (2,'queen'))\n",
    "a=dict((y, x) for x, y in t)\n",
    "print(a)\n",
    "\n",
    "\n",
    "\n",
    "\n",
    "\n",
    "##reverse a tuple\n",
    "star=(120,\"icon\",22.2,66,92)\n",
    "print(star[::-1])\n",
    "\n",
    "\n",
    "##list of tuples to dictinary \n",
    "my_list = [('king', 1), ('quuen', 2)]\n",
    "dict(my_list)\n",
    "print(my_list)\n",
    "\n",
    "\n",
    "\n",
    "\n",
    "##list to tuple\n",
    "a=[123,\"king\",77,99]\n",
    "print(tuple(a))\n"
   ]
  }
 ],
 "metadata": {
  "kernelspec": {
   "display_name": "Python 3",
   "language": "python",
   "name": "python3"
  },
  "language_info": {
   "codemirror_mode": {
    "name": "ipython",
    "version": 3
   },
   "file_extension": ".py",
   "mimetype": "text/x-python",
   "name": "python",
   "nbconvert_exporter": "python",
   "pygments_lexer": "ipython3",
   "version": "3.7.4"
  }
 },
 "nbformat": 4,
 "nbformat_minor": 2
}
