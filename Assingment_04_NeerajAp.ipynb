{
 "cells": [
  {
   "cell_type": "markdown",
   "metadata": {},
   "source": [
    "## MAX OF THREE :"
   ]
  },
  {
   "cell_type": "code",
   "execution_count": 18,
   "metadata": {},
   "outputs": [],
   "source": [
    "def maxiOf():\n",
    "    \n",
    "    \n",
    "    num1 = float(input(\"Enter first number: \"))\n",
    "    num2 = float(input(\"Enter second number: \"))\n",
    "    num3 = float(input(\"Enter third number: \"))\n",
    " \n",
    "    if (num1 > num2) and (num1 > num3):\n",
    "       largest = num1\n",
    "    elif (num2 > num1) and (num2 > num3):\n",
    "       largest = num2\n",
    "    else:\n",
    "       largest = num3\n",
    " \n",
    "    print(\"The largest number is\",largest)\n",
    "    "
   ]
  },
  {
   "cell_type": "code",
   "execution_count": 20,
   "metadata": {},
   "outputs": [
    {
     "name": "stdout",
     "output_type": "stream",
     "text": [
      "Enter first number: 44\n",
      "Enter second number: 55\n",
      "Enter third number: 789\n",
      "The largest number is 789.0\n"
     ]
    }
   ],
   "source": [
    "maxiOf()"
   ]
  },
  {
   "cell_type": "markdown",
   "metadata": {},
   "source": [
    "## REVERSE A STRING :"
   ]
  },
  {
   "cell_type": "code",
   "execution_count": 1,
   "metadata": {},
   "outputs": [],
   "source": [
    "def revStr():\n",
    "    \n",
    "    a=input(\"enter a string :\")\n",
    "    c=a[::-1]\n",
    "    print(c)\n",
    "    "
   ]
  },
  {
   "cell_type": "code",
   "execution_count": 2,
   "metadata": {},
   "outputs": [
    {
     "name": "stdout",
     "output_type": "stream",
     "text": [
      "enter a string :neeraj\n",
      "jareen\n"
     ]
    }
   ],
   "source": [
    "revStr()"
   ]
  },
  {
   "cell_type": "markdown",
   "metadata": {},
   "source": [
    "## PRIME OR NOT :"
   ]
  },
  {
   "cell_type": "code",
   "execution_count": 3,
   "metadata": {},
   "outputs": [],
   "source": [
    "def prime():\n",
    "    \n",
    "    a=int(input(\"enter a number:\"))\n",
    "    \n",
    "    for i in range(2,a):\n",
    "        if(a%i==0):\n",
    "            j=1\n",
    "            break\n",
    "        else:\n",
    "            j=0\n",
    "       \n",
    "    if(j==1):\n",
    "        print(\"not a prime\")\n",
    "    else:\n",
    "        print(\"yes its a prime\")\n",
    "  \n",
    "    \n",
    "    \n",
    "    \n",
    "    "
   ]
  },
  {
   "cell_type": "code",
   "execution_count": 4,
   "metadata": {},
   "outputs": [
    {
     "name": "stdout",
     "output_type": "stream",
     "text": [
      "enter a number:12\n",
      "not a prime\n"
     ]
    }
   ],
   "source": [
    "prime()"
   ]
  },
  {
   "cell_type": "markdown",
   "metadata": {},
   "source": [
    "## PALINDROME :"
   ]
  },
  {
   "cell_type": "code",
   "execution_count": 5,
   "metadata": {},
   "outputs": [],
   "source": [
    " def palindrome():\n",
    "        try:   \n",
    "            num=int(input(\"enter a number :\"))\n",
    "            rev=0\n",
    "            num1=num\n",
    "            while(num>0):\n",
    "                rem=num%10\n",
    "                rev=(rev*10)+rem\n",
    "                num=num//10\n",
    "            if(num1==rev):\n",
    "                print(\"YES ITS A PALINDROME..!!\")\n",
    "            else:\n",
    "                print(\"NO ITS NOT A PALINDROME..!!\")\n",
    "            \n",
    "        except:\n",
    "            print(\"please enter valid input..!!\")\n",
    "        finally:\n",
    "            print(\"THANK YOU...!!\")\n",
    "    \n",
    "    "
   ]
  },
  {
   "cell_type": "code",
   "execution_count": 6,
   "metadata": {},
   "outputs": [
    {
     "name": "stdout",
     "output_type": "stream",
     "text": [
      "enter a number :1221\n",
      "YES ITS A PALINDROME..!!\n",
      "THANK YOU...!!\n"
     ]
    }
   ],
   "source": [
    "palindrome()"
   ]
  },
  {
   "cell_type": "code",
   "execution_count": 21,
   "metadata": {},
   "outputs": [
    {
     "name": "stdout",
     "output_type": "stream",
     "text": [
      "enter a number :str\n",
      "please enter valid input..!!\n",
      "THANK YOU...!!\n"
     ]
    }
   ],
   "source": [
    "palindrome()"
   ]
  },
  {
   "cell_type": "markdown",
   "metadata": {},
   "source": [
    "\n",
    "## SUM OF SQUARES OF N NATURAL NUMBERS :"
   ]
  },
  {
   "cell_type": "code",
   "execution_count": 9,
   "metadata": {},
   "outputs": [],
   "source": [
    "def sumOfSquares():\n",
    "    \n",
    "    a=int(input(\"enter an number :\"))\n",
    "    sum=0\n",
    "    b=a+1\n",
    "    for i in range(1,b):\n",
    "        sum=sum+(i**2)\n",
    "    print(\"sum is \",sum)\n",
    "    \n",
    "    "
   ]
  },
  {
   "cell_type": "code",
   "execution_count": 10,
   "metadata": {},
   "outputs": [
    {
     "name": "stdout",
     "output_type": "stream",
     "text": [
      "enter an number :4\n",
      "sum is  30\n"
     ]
    }
   ],
   "source": [
    "sumOfSquares()"
   ]
  }
 ],
 "metadata": {
  "kernelspec": {
   "display_name": "Python 3",
   "language": "python",
   "name": "python3"
  },
  "language_info": {
   "codemirror_mode": {
    "name": "ipython",
    "version": 3
   },
   "file_extension": ".py",
   "mimetype": "text/x-python",
   "name": "python",
   "nbconvert_exporter": "python",
   "pygments_lexer": "ipython3",
   "version": "3.7.4"
  }
 },
 "nbformat": 4,
 "nbformat_minor": 2
}
