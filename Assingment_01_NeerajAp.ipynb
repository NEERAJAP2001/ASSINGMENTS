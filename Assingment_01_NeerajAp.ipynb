{
 "cells": [
  {
   "cell_type": "markdown",
   "metadata": {},
   "source": [
    "##  SIMPLE  CALCULATOR :"
   ]
  },
  {
   "cell_type": "code",
   "execution_count": 19,
   "metadata": {},
   "outputs": [
    {
     "name": "stdout",
     "output_type": "stream",
     "text": [
      "enter a number : 5\n",
      "enter another number :5\n",
      "enter operation(add,subract,multiply,divide,reminder,exponent,floordivision):multiply\n",
      "25.0\n"
     ]
    }
   ],
   "source": [
    "a=float(input(\"enter a number : \"))\n",
    "b=float(input(\"enter another number :\"))\n",
    "c=input(\"enter operation(add,subract,multiply,divide,reminder,exponent,floordivision):\")\n",
    "\n",
    "\n",
    "## ADDITION \n",
    "if(c==\"add\"):\n",
    "    res_add=a+b\n",
    "    print(res_add)\n",
    "    \n",
    "## SUBRACTION\n",
    "elif(c==\"subract\"):\n",
    "    res_sub=a-b\n",
    "    print(res_sub)\n",
    "\n",
    "## MULTIPLICATION\n",
    "elif(c==\"multiply\"):\n",
    "    res_mult=a*b\n",
    "    print(res_mult)\n",
    "\n",
    "## DIVISION\n",
    "elif(c==\"divide\"):\n",
    "    res_div=a/b\n",
    "    print(res_div)\n",
    "\n",
    "## MODULUS\n",
    "elif(c==\"reminder\"):\n",
    "    res_mod=a%b\n",
    "    print(res_mod)\n",
    "\n",
    "## EXPONENT\n",
    "elif(c==\"exponent\"):\n",
    "    res_exp=a**b\n",
    "    print(res_exp)\n",
    "\n",
    "## FLOOR DIVISON \n",
    "elif(c==\"floordivision\"):\n",
    "    res_divv=a//b\n",
    "    print(res_divv)\n",
    "\n",
    "else:\n",
    "    print(\"please enter valid inputs!!\")\n",
    "\n",
    "\n"
   ]
  },
  {
   "cell_type": "markdown",
   "metadata": {},
   "source": [
    "## SIMPLE INTREST :"
   ]
  },
  {
   "cell_type": "code",
   "execution_count": 8,
   "metadata": {},
   "outputs": [
    {
     "name": "stdout",
     "output_type": "stream",
     "text": [
      "enter principal amount:100\n",
      "enter time :100\n",
      "enter rate :20\n",
      "simple intrest  is : 2000.0\n"
     ]
    }
   ],
   "source": [
    "principal=float(input(\"enter principal amount:\"))\n",
    "time=float(input(\"enter time :\"))\n",
    "rate=float(input(\"enter rate :\"))\n",
    "\n",
    "si=(principal*time*rate)/100\n",
    "print(\"simple intrest  is :\",si)"
   ]
  },
  {
   "cell_type": "markdown",
   "metadata": {},
   "source": [
    "## AREA OF CIRCLE :"
   ]
  },
  {
   "cell_type": "code",
   "execution_count": 12,
   "metadata": {},
   "outputs": [
    {
     "name": "stdout",
     "output_type": "stream",
     "text": [
      "enter radius of circle :5\n",
      "area is : 78.5\n"
     ]
    }
   ],
   "source": [
    "rad=float(input(\"enter radius of circle :\"))\n",
    "area=3.14*(rad**2)\n",
    "print(\"area is :\",area)\n"
   ]
  },
  {
   "cell_type": "markdown",
   "metadata": {},
   "source": [
    "## AREA OF TRAINGLE : "
   ]
  },
  {
   "cell_type": "code",
   "execution_count": 13,
   "metadata": {},
   "outputs": [
    {
     "name": "stdout",
     "output_type": "stream",
     "text": [
      "enter side 1 :5\n",
      "enter side 2 :5\n",
      "enter side 3 : 5\n",
      "area is : 10.825317547305483\n"
     ]
    }
   ],
   "source": [
    "h=float(input(\"enter side 1 :\"))\n",
    "j=float(input(\"enter side 2 :\"))\n",
    "k=float(input(\"enter side 3 : \"))\n",
    "s=(h+j+k)/2\n",
    "\n",
    "area=(s*(s-h)*(s-j)*(s-k))**(0.5)\n",
    "\n",
    "print(\"area is :\",area)\n"
   ]
  },
  {
   "cell_type": "markdown",
   "metadata": {},
   "source": [
    "## AREA OF RECTANGLE :"
   ]
  },
  {
   "cell_type": "code",
   "execution_count": 14,
   "metadata": {},
   "outputs": [
    {
     "name": "stdout",
     "output_type": "stream",
     "text": [
      "enter side 1 :10\n",
      "enter side 2 :5\n",
      "area is  50.0\n"
     ]
    }
   ],
   "source": [
    "m=float(input(\"enter side 1 :\"))\n",
    "n=float(input(\"enter side 2 :\"))\n",
    "\n",
    "area=m*n\n",
    "\n",
    "print(\"area is \",area)"
   ]
  },
  {
   "cell_type": "markdown",
   "metadata": {},
   "source": [
    "## AREA OF SQUARE :"
   ]
  },
  {
   "cell_type": "code",
   "execution_count": 15,
   "metadata": {},
   "outputs": [
    {
     "name": "stdout",
     "output_type": "stream",
     "text": [
      "enter side of square :5\n",
      "area is  25.0\n"
     ]
    }
   ],
   "source": [
    "q=float(input(\"enter side of square :\"))\n",
    "area=q**2\n",
    "\n",
    "print(\"area is \",area)"
   ]
  },
  {
   "cell_type": "markdown",
   "metadata": {},
   "source": [
    "## CIRCUMFRENCE OF CIRCLE :"
   ]
  },
  {
   "cell_type": "code",
   "execution_count": 16,
   "metadata": {},
   "outputs": [
    {
     "name": "stdout",
     "output_type": "stream",
     "text": [
      "enter radius of circle:5\n",
      "circumfrence is : 31.400000000000002\n"
     ]
    }
   ],
   "source": [
    "r=float(input(\"enter radius of circle:\"))\n",
    "\n",
    "c=2*3.14*r\n",
    "\n",
    "print(\"circumfrence is :\",c)"
   ]
  },
  {
   "cell_type": "markdown",
   "metadata": {},
   "source": [
    "## CELCIUS TO FARENHIET :"
   ]
  },
  {
   "cell_type": "code",
   "execution_count": 24,
   "metadata": {},
   "outputs": [
    {
     "name": "stdout",
     "output_type": "stream",
     "text": [
      "enter temperature in celsius :5\n",
      "temperature in farenhiet is  41.0\n"
     ]
    }
   ],
   "source": [
    "c=float(input(\"enter temperature in celsius :\"))\n",
    "\n",
    "f=(c*(9/5))+32\n",
    "\n",
    "print(\"temperature in farenhiet is \",f)"
   ]
  },
  {
   "cell_type": "markdown",
   "metadata": {},
   "source": [
    "## SWAP TWO NUMBERS :"
   ]
  },
  {
   "cell_type": "code",
   "execution_count": 27,
   "metadata": {},
   "outputs": [
    {
     "name": "stdout",
     "output_type": "stream",
     "text": [
      "enter first number :10\n",
      "enter second number :5\n",
      "***** AFTER SWAPPING *****\n",
      "first number is  5.0\n",
      "second number is  10.0\n"
     ]
    }
   ],
   "source": [
    "c=float(input(\"enter first number :\"))\n",
    "d=float(input(\"enter second number :\"))\n",
    "\n",
    "c,d=d,c\n",
    "print(\"***** AFTER SWAPPING *****\")\n",
    "print(\"first number is \",c)\n",
    "print(\"second number is \",d)\n"
   ]
  }
 ],
 "metadata": {
  "kernelspec": {
   "display_name": "Python 3",
   "language": "python",
   "name": "python3"
  },
  "language_info": {
   "codemirror_mode": {
    "name": "ipython",
    "version": 3
   },
   "file_extension": ".py",
   "mimetype": "text/x-python",
   "name": "python",
   "nbconvert_exporter": "python",
   "pygments_lexer": "ipython3",
   "version": "3.7.4"
  }
 },
 "nbformat": 4,
 "nbformat_minor": 2
}
