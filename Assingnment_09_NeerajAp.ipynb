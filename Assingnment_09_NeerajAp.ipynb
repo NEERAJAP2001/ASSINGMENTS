{
 "cells": [
  {
   "cell_type": "markdown",
   "metadata": {},
   "source": [
    "## CONDITONAL PRINTING :"
   ]
  },
  {
   "cell_type": "code",
   "execution_count": 6,
   "metadata": {},
   "outputs": [
    {
     "name": "stdout",
     "output_type": "stream",
     "text": [
      " 1\n",
      " 2\n",
      "FIZZ\n",
      " 4\n",
      "BUZZ\n",
      "FIZZ\n",
      " 7\n",
      " 8\n",
      "FIZZ\n",
      "BUZZ\n",
      " 11\n",
      "FIZZ\n",
      " 13\n",
      " 14\n",
      "FIZZBUZZ\n",
      " 16\n",
      " 17\n",
      "FIZZ\n",
      " 19\n"
     ]
    }
   ],
   "source": [
    "#for multiples of 3:fizz\n",
    "#for multiples of 5:buzz\n",
    "#for both:fizzbuzz  \n",
    "\n",
    "\n",
    "for i in range(1,20):\n",
    "    if i%3==0 and i%5==0:\n",
    "        print(\"FIZZBUZZ\")\n",
    "    elif i%5==0:\n",
    "        print(\"BUZZ\")\n",
    "    elif i%3==0:\n",
    "        print(\"FIZZ\")\n",
    "    else:\n",
    "        print(\"\",i)"
   ]
  },
  {
   "cell_type": "markdown",
   "metadata": {},
   "source": [
    "##  REMOVE CONSECUTIVE DUPLICATES FROM LIST :"
   ]
  },
  {
   "cell_type": "code",
   "execution_count": 21,
   "metadata": {},
   "outputs": [
    {
     "name": "stdout",
     "output_type": "stream",
     "text": [
      "[2, 3, 5, 1, 2]\n"
     ]
    }
   ],
   "source": [
    "\n",
    "list = [1,1,1,1,1,1,2,3,4,4,5,1,2]\n",
    "i = 0\n",
    "dope = False\n",
    "\n",
    "while i < len(list)-1:\n",
    "    if list[i] == list[i+1]:\n",
    "        del list[i]\n",
    "        dope = True\n",
    "    elif dope:\n",
    "        del list[i]\n",
    "        dope = False\n",
    "    else:\n",
    "        i += 1\n",
    "print(list)"
   ]
  },
  {
   "cell_type": "markdown",
   "metadata": {},
   "source": [
    "## UNIQUE ELEMENT IN LIST :"
   ]
  },
  {
   "cell_type": "code",
   "execution_count": 5,
   "metadata": {},
   "outputs": [
    {
     "name": "stdout",
     "output_type": "stream",
     "text": [
      "Enter number of elements : 4\n",
      "enter your elements:10\n",
      "enter your elements:5\n",
      "enter your elements:2\n",
      "enter your elements:10\n",
      "your previous list: [10, 5, 2, 10]\n",
      "your new list: [10, 5, 2]\n"
     ]
    }
   ],
   "source": [
    " \n",
    "lst = [] \n",
    "n = int(input(\"Enter number of elements : \")) \n",
    "for i in range(0, n): \n",
    "    ele = int(input(\"enter your elements:\")) \n",
    "    lst.append(ele)  \n",
    "print(\"your previous list:\",lst) \n",
    "\n",
    "\n",
    "lst2 = [] \n",
    "\n",
    "for x in lst: \n",
    "    if x not in lst2: \n",
    "        lst2.append(x) \n",
    "print(\"your new list:\",lst2)  \n",
    "      "
   ]
  },
  {
   "cell_type": "markdown",
   "metadata": {},
   "source": [
    "## FUNCTION TO CHECK NUMBER IS IN RANGE:"
   ]
  },
  {
   "cell_type": "code",
   "execution_count": 13,
   "metadata": {},
   "outputs": [],
   "source": [
    "def check():\n",
    "    a=int(input(\"enter value to check:\"))\n",
    "    b=int(input(\"enter the minimum range:\"))\n",
    "    c=int(input(\"enter the maximum range:\"))\n",
    "    j=0\n",
    "    for i in range(b,c+1):\n",
    "        if(i==a):\n",
    "            j=1\n",
    "            break\n",
    "        else:\n",
    "            j=0\n",
    "          \n",
    "    if(j==1):\n",
    "        print(\"Yes..its in!\")\n",
    "    else:\n",
    "        print(\"Nope..not in range!\")"
   ]
  },
  {
   "cell_type": "code",
   "execution_count": 14,
   "metadata": {},
   "outputs": [
    {
     "name": "stdout",
     "output_type": "stream",
     "text": [
      "enter value to check:5\n",
      "enter the minimum range:0\n",
      "enter the maximum range:6\n",
      "Yes..its in!\n"
     ]
    }
   ],
   "source": [
    "check()"
   ]
  },
  {
   "cell_type": "markdown",
   "metadata": {},
   "source": [
    "## CALCULATE NUMBER OF UPPER AND LOWER CASES:"
   ]
  },
  {
   "cell_type": "code",
   "execution_count": 22,
   "metadata": {},
   "outputs": [],
   "source": [
    "def cnt():\n",
    "    \n",
    "    s1=input(\"enter a string :\").strip()\n",
    "    count=0\n",
    "    countu=0\n",
    "    for i in s1:\n",
    "        if(i.islower()):\n",
    "            count+=1\n",
    "            \n",
    "        elif(i.isupper()):\n",
    "            countu+=1\n",
    "            \n",
    "        else:\n",
    "            pass\n",
    "    print(\"THE NUMBER OF UPPER CASES ARE :\",countu)\n",
    "    print(\"THE NUMBER OF LOWER CASSES ARE: \",count)\n",
    "\n",
    "            "
   ]
  },
  {
   "cell_type": "code",
   "execution_count": 23,
   "metadata": {},
   "outputs": [
    {
     "name": "stdout",
     "output_type": "stream",
     "text": [
      "enter a string :Str for U\n",
      "THE NUMBER OF UPPER CASES ARE : 2\n",
      "THE NUMBER OF LOWER CASSES ARE:  5\n"
     ]
    }
   ],
   "source": [
    "cnt()"
   ]
  }
 ],
 "metadata": {
  "kernelspec": {
   "display_name": "Python 3",
   "language": "python",
   "name": "python3"
  },
  "language_info": {
   "codemirror_mode": {
    "name": "ipython",
    "version": 3
   },
   "file_extension": ".py",
   "mimetype": "text/x-python",
   "name": "python",
   "nbconvert_exporter": "python",
   "pygments_lexer": "ipython3",
   "version": "3.7.4"
  }
 },
 "nbformat": 4,
 "nbformat_minor": 2
}
