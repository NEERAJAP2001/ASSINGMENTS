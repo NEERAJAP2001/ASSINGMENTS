{
 "cells": [
  {
   "cell_type": "markdown",
   "metadata": {},
   "source": [
    "## CONVERT BINARY TO DCEIMAL :"
   ]
  },
  {
   "cell_type": "code",
   "execution_count": 1,
   "metadata": {},
   "outputs": [
    {
     "name": "stdout",
     "output_type": "stream",
     "text": [
      "enter your number:10010\n",
      "the decimal number is : 36\n"
     ]
    }
   ],
   "source": [
    "#10010\n",
    "\n",
    "num=int(input(\"enter your number:\"))\n",
    "i=0\n",
    "value=0\n",
    "\n",
    "#convert\n",
    "\n",
    "while(num>0):\n",
    "    i=i+1\n",
    "    rem=num%10\n",
    "    value+=rem*2**i\n",
    "    num=num//10\n",
    "    \n",
    "print(\"the decimal number is :\",value)"
   ]
  },
  {
   "cell_type": "markdown",
   "metadata": {},
   "source": [
    "## FIBONACCI SERIES :"
   ]
  },
  {
   "cell_type": "code",
   "execution_count": 13,
   "metadata": {},
   "outputs": [
    {
     "name": "stdout",
     "output_type": "stream",
     "text": [
      "0\n",
      "1\n",
      "1\n",
      "2\n",
      "3\n",
      "5\n",
      "8\n"
     ]
    }
   ],
   "source": [
    "def fibonacci(n): \n",
    "    a = 0\n",
    "    b = 1\n",
    "    if n < 2: \n",
    "        print(\"Incorrect input\") \n",
    "    else:\n",
    "        print(\"0\")\n",
    "        print(\"1\")\n",
    "        for i in range(2,n): \n",
    "            c = a + b \n",
    "            a = b \n",
    "            b = c \n",
    "            print(\"{}\".format(c))\n",
    "    \n",
    "    \n",
    "fibonacci(7)\n",
    "   \n",
    "\n",
    "    \n"
   ]
  },
  {
   "cell_type": "markdown",
   "metadata": {},
   "source": [
    "## MULTIPLICATION TABLE :"
   ]
  },
  {
   "cell_type": "code",
   "execution_count": 23,
   "metadata": {},
   "outputs": [
    {
     "name": "stdout",
     "output_type": "stream",
     "text": [
      "enter the number for table you want :7\n",
      "7 *1=7\n",
      "7 *2=14\n",
      "7 *3=21\n",
      "7 *4=28\n",
      "7 *5=35\n",
      "7 *6=42\n",
      "7 *7=49\n",
      "7 *8=56\n",
      "7 *9=63\n",
      "7 *10=70\n"
     ]
    }
   ],
   "source": [
    "b=int(input(\"enter the number for table you want :\"))\n",
    "i=0\n",
    "while(i<10):\n",
    "    i=i+1\n",
    "    print(\"{2} *{0}={1}\".format(i,i*b,b))\n",
    "    "
   ]
  },
  {
   "cell_type": "markdown",
   "metadata": {},
   "source": [
    "## GCD AND HCF OF TWO NUMBERS :"
   ]
  },
  {
   "cell_type": "code",
   "execution_count": 21,
   "metadata": {},
   "outputs": [
    {
     "name": "stdout",
     "output_type": "stream",
     "text": [
      "Enter first number: 10\n",
      "Enter second number: 5\n",
      "The H.C.F. of 10 and 10 is 5\n",
      "Enter first number: 54\n",
      "Enter second number: 24\n",
      "THE L.C.M IS : 216\n"
     ]
    }
   ],
   "source": [
    "x = int(input(\"Enter first number: \"))  \n",
    "y = int(input(\"Enter second number: \"))  \n",
    "if x > y:  \n",
    "    smaller = y  \n",
    "else:  \n",
    "    smaller = x  \n",
    "for i in range(1,smaller + 1):\n",
    "    \n",
    "    if((x % i == 0) and (y % i == 0)):  \n",
    "        hcf = i  \n",
    "\n",
    "print(\"The H.C.F. of\", x,\"and\", x,\"is\", hcf) \n",
    "\n",
    "\n",
    "\n",
    "x = int(input(\"Enter first number: \"))  \n",
    "y = int(input(\"Enter second number: \"))     \n",
    "if x > y:\n",
    "    greater = x\n",
    "else:\n",
    "    greater = y\n",
    "while(True):\n",
    "    if((greater % x == 0) and (greater % y == 0)):\n",
    "        lcm = greater\n",
    "        break\n",
    "    greater += 1\n",
    "print(\"THE L.C.M IS :\",lcm)\n"
   ]
  }
 ],
 "metadata": {
  "kernelspec": {
   "display_name": "Python 3",
   "language": "python",
   "name": "python3"
  },
  "language_info": {
   "codemirror_mode": {
    "name": "ipython",
    "version": 3
   },
   "file_extension": ".py",
   "mimetype": "text/x-python",
   "name": "python",
   "nbconvert_exporter": "python",
   "pygments_lexer": "ipython3",
   "version": "3.7.4"
  }
 },
 "nbformat": 4,
 "nbformat_minor": 2
}
