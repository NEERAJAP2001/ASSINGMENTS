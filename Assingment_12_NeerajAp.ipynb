{
 "cells": [
  {
   "cell_type": "markdown",
   "metadata": {},
   "source": [
    "## SUM ALL THE ITEMS IN A LIST :"
   ]
  },
  {
   "cell_type": "code",
   "execution_count": 4,
   "metadata": {},
   "outputs": [
    {
     "name": "stdout",
     "output_type": "stream",
     "text": [
      "number of elements??:3\n",
      "enter elements into list :1\n",
      "enter elements into list :2\n",
      "enter elements into list :3\n",
      "[1, 2, 3]\n",
      "6\n"
     ]
    }
   ],
   "source": [
    "a=[]\n",
    "sum=0\n",
    "b=int(input(\"number of elements??:\"))\n",
    "for i in range(b):\n",
    "    c=int(input(\"enter elements into list :\"))\n",
    "    a.append(c)\n",
    "    sum+=c\n",
    "    \n",
    "print(a)\n",
    "print(sum)\n"
   ]
  },
  {
   "cell_type": "markdown",
   "metadata": {},
   "source": [
    "## LIST OF EMPTY DICTINARIES :"
   ]
  },
  {
   "cell_type": "code",
   "execution_count": 6,
   "metadata": {},
   "outputs": [
    {
     "name": "stdout",
     "output_type": "stream",
     "text": [
      "[{}, {}, {}]\n"
     ]
    }
   ],
   "source": [
    "n = 3\n",
    "l = [{} for a in range(n)]\n",
    "print(l)"
   ]
  },
  {
   "cell_type": "markdown",
   "metadata": {},
   "source": [
    "## ACCESS DICTONARY KEYS ELEMENTS BY INDEX:"
   ]
  },
  {
   "cell_type": "code",
   "execution_count": 10,
   "metadata": {},
   "outputs": [
    {
     "name": "stdout",
     "output_type": "stream",
     "text": [
      "SVM\n"
     ]
    }
   ],
   "source": [
    "acc = {'randomforest': 80, 'decisiontree': 90, 'SVM': 86}\n",
    "print(list(acc)[2])"
   ]
  },
  {
   "cell_type": "markdown",
   "metadata": {},
   "source": [
    "## ITERATE OVER DICTIONARIES USING LOOPS : "
   ]
  },
  {
   "cell_type": "code",
   "execution_count": 15,
   "metadata": {},
   "outputs": [
    {
     "name": "stdout",
     "output_type": "stream",
     "text": [
      "perk is:  1\n",
      "fivestar is:  2\n",
      "munch is:  3\n"
     ]
    }
   ],
   "source": [
    "#model = {'randomforest': 1, 'SVM': 2, 'SVC': 3} \n",
    "#for name,num in model.items():\n",
    " #    print(name, 'is : ', model[num]) \n",
    "        \n",
    "        \n",
    "d = {'perk': 1, 'fivestar': 2, 'munch': 3} \n",
    "for key, value in d.items():\n",
    "     print(key, 'is: ', d[key]) "
   ]
  },
  {
   "cell_type": "markdown",
   "metadata": {},
   "source": [
    "## SUM OF  ALL THE ITEMS IN DICTIONARY: "
   ]
  },
  {
   "cell_type": "code",
   "execution_count": 29,
   "metadata": {},
   "outputs": [
    {
     "name": "stdout",
     "output_type": "stream",
     "text": [
      "[100, -54, 247]\n",
      "293\n"
     ]
    }
   ],
   "source": [
    "a=[]\n",
    "my_dict = {'data1':100,'data2':-54,'data3':247}\n",
    "a=list((my_dict.values()))\n",
    "sum=0\n",
    "for i in a:\n",
    "    sum+=i    \n",
    "print(a)\n",
    "print(sum)\n",
    "\n"
   ]
  },
  {
   "cell_type": "markdown",
   "metadata": {},
   "source": [
    "##  CREATE NEW DICTIONARY BY CONCATINATING OTHER : "
   ]
  },
  {
   "cell_type": "code",
   "execution_count": 33,
   "metadata": {},
   "outputs": [
    {
     "name": "stdout",
     "output_type": "stream",
     "text": [
      "{1: 10, 2: 20, 3: 30, 4: 40, 5: 50, 6: 60}\n"
     ]
    }
   ],
   "source": [
    "#dict1={1:10,2:20}\n",
    "#dict2={3:30,4:40}\n",
    "#dict3={5:50,6:60}\n",
    "\n",
    "\n",
    "#d4 = dict(dict1.items() + dict2.items() + dict3.items()) ## does not work on python3\n",
    "#print(d4)\n",
    "\n",
    "\n",
    "dic1={1:10, 2:20}\n",
    "dic2={3:30, 4:40}\n",
    "dic3={5:50,6:60}\n",
    "dic4 = {}\n",
    "for d in (dic1, dic2, dic3):\n",
    "    dic4.update(d)                       ##update\n",
    "print(dic4)\n"
   ]
  }
 ],
 "metadata": {
  "kernelspec": {
   "display_name": "Python 3",
   "language": "python",
   "name": "python3"
  },
  "language_info": {
   "codemirror_mode": {
    "name": "ipython",
    "version": 3
   },
   "file_extension": ".py",
   "mimetype": "text/x-python",
   "name": "python",
   "nbconvert_exporter": "python",
   "pygments_lexer": "ipython3",
   "version": "3.7.4"
  }
 },
 "nbformat": 4,
 "nbformat_minor": 2
}
