{
 "cells": [
  {
   "cell_type": "markdown",
   "metadata": {},
   "source": [
    "## CHECK EQUALITY :"
   ]
  },
  {
   "cell_type": "code",
   "execution_count": 4,
   "metadata": {},
   "outputs": [
    {
     "name": "stdout",
     "output_type": "stream",
     "text": [
      "enter a number:10.2\n",
      "enter other number:10.2\n",
      "yes, both are equal\n"
     ]
    }
   ],
   "source": [
    "try:\n",
    "    a=float(input(\"enter a number:\"))\n",
    "    b=float(input(\"enter other number:\"))\n",
    "    if a==b:\n",
    "        print(\"yes, both are equal\")\n",
    "    else:\n",
    "        print(\"nope, they are not equal\")\n",
    "except:\n",
    "    print(\"only float values accepted !!\")"
   ]
  },
  {
   "cell_type": "markdown",
   "metadata": {},
   "source": [
    "## CHECK EQUALITY FOR 3 INPUTS :"
   ]
  },
  {
   "cell_type": "code",
   "execution_count": 11,
   "metadata": {},
   "outputs": [
    {
     "name": "stdout",
     "output_type": "stream",
     "text": [
      "enter a number:1\n",
      "enter other number:2\n",
      "enter another number:3\n",
      "none of them are equal\n"
     ]
    }
   ],
   "source": [
    "try:\n",
    "    a=float(input(\"enter a number:\"))\n",
    "    b=float(input(\"enter other number:\"))\n",
    "    c=float(input(\"enter another number:\"))\n",
    "    \n",
    "    if a==b and b!=c:\n",
    "        print(\"first two numbers are equal\")\n",
    "    elif a==c and c!=b:\n",
    "        print(\"first and third numbers are equal\")\n",
    "    elif b==c and a!=b:\n",
    "        print(\"second and third numbers are equal\")\n",
    "    elif a==b and a==c:\n",
    "        print(\"all are equal\")\n",
    "    else:\n",
    "        print(\"none of them are equal\")\n",
    "    \n",
    "except:\n",
    "    print(\"only float values accepted !!\")"
   ]
  },
  {
   "cell_type": "markdown",
   "metadata": {},
   "source": [
    "## CHECK THE SUM IS FIVE :"
   ]
  },
  {
   "cell_type": "code",
   "execution_count": 13,
   "metadata": {},
   "outputs": [
    {
     "name": "stdout",
     "output_type": "stream",
     "text": [
      "enter a number:1\n",
      "enter other number:1\n",
      "sum is less than five\n"
     ]
    }
   ],
   "source": [
    "a=int(input(\"enter a number:\"))\n",
    "b=int(input(\"enter other number:\"))\n",
    "\n",
    "sum=a+b\n",
    "\n",
    "if sum==5:\n",
    "    print(\"equal\")\n",
    "elif sum>5:\n",
    "    print(\"sum is greater than five\")\n",
    "else:\n",
    "    print(\"sum is less than five\")"
   ]
  },
  {
   "cell_type": "markdown",
   "metadata": {},
   "source": [
    "## MARKS CHECK :"
   ]
  },
  {
   "cell_type": "code",
   "execution_count": 17,
   "metadata": {},
   "outputs": [
    {
     "name": "stdout",
     "output_type": "stream",
     "text": [
      "enter the marks :100\n",
      "YOU PASSED!! ROCK ON..\n"
     ]
    }
   ],
   "source": [
    "a=int(input(\"enter the marks :\"))\n",
    "\n",
    "\n",
    "if a>=35:\n",
    "    print(\"YOU PASSED!! ROCK ON..\")\n",
    "else:\n",
    "    print(\"YOU FAILED..!! \")\n"
   ]
  },
  {
   "cell_type": "markdown",
   "metadata": {},
   "source": [
    "## FUNCTION FOR MAX OF THREE"
   ]
  },
  {
   "cell_type": "code",
   "execution_count": 38,
   "metadata": {},
   "outputs": [],
   "source": [
    "def maxOf():\n",
    "      \n",
    "    a=float(input(\"enter a number:\"))\n",
    "    b=float(input(\"enter other number:\"))\n",
    "    c=float(input(\"enter another number:\"))\n",
    "    large=a\n",
    "        \n",
    "    if b>large and c<large:\n",
    "        large=b\n",
    "    \n",
    "    elif c>large and  b<large:    \n",
    "        large=c\n",
    "        \n",
    "    elif a==b and b==c:\n",
    "        print(\"all are equal\")\n",
    "        \n",
    "    else:  \n",
    "        large=a\n",
    "        \n",
    "    print(\"largest is :\",large)    \n",
    "        \n",
    "   \n",
    "    \n",
    "    \n",
    "    \n",
    "    "
   ]
  },
  {
   "cell_type": "code",
   "execution_count": 40,
   "metadata": {},
   "outputs": [
    {
     "name": "stdout",
     "output_type": "stream",
     "text": [
      "enter a number:88\n",
      "enter other number:6988\n",
      "enter another number:10\n",
      "largest is : 6988.0\n"
     ]
    }
   ],
   "source": [
    "maxOf()"
   ]
  },
  {
   "cell_type": "code",
   "execution_count": 29,
   "metadata": {},
   "outputs": [
    {
     "name": "stdout",
     "output_type": "stream",
     "text": [
      "enter a number:100\n",
      "enter other number:200\n",
      "enter another number:500\n",
      "largest is : 100.0\n"
     ]
    }
   ],
   "source": [
    "maxOf()"
   ]
  },
  {
   "cell_type": "code",
   "execution_count": 23,
   "metadata": {},
   "outputs": [
    {
     "name": "stdout",
     "output_type": "stream",
     "text": [
      "enter a number:10\n",
      "enter other number:10\n",
      "enter another number:10\n",
      "largest is : 10.0\n"
     ]
    }
   ],
   "source": [
    "maxOf()"
   ]
  },
  {
   "cell_type": "code",
   "execution_count": 25,
   "metadata": {},
   "outputs": [
    {
     "name": "stdout",
     "output_type": "stream",
     "text": [
      "enter a number:5\n",
      "enter other number:3\n",
      "enter another number:8\n",
      "largest is : 8.0\n"
     ]
    }
   ],
   "source": [
    "maxOf()"
   ]
  }
 ],
 "metadata": {
  "kernelspec": {
   "display_name": "Python 3",
   "language": "python",
   "name": "python3"
  },
  "language_info": {
   "codemirror_mode": {
    "name": "ipython",
    "version": 3
   },
   "file_extension": ".py",
   "mimetype": "text/x-python",
   "name": "python",
   "nbconvert_exporter": "python",
   "pygments_lexer": "ipython3",
   "version": "3.7.4"
  }
 },
 "nbformat": 4,
 "nbformat_minor": 2
}
