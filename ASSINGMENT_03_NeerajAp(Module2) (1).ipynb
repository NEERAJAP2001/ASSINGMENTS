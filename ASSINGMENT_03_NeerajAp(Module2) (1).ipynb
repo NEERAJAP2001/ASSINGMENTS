{
 "cells": [
  {
   "cell_type": "markdown",
   "metadata": {},
   "source": [
    "## CHECK EQUALITY :"
   ]
  },
  {
   "cell_type": "code",
   "execution_count": 4,
   "metadata": {},
   "outputs": [
    {
     "name": "stdout",
     "output_type": "stream",
     "text": [
      "enter a number:10.2\n",
      "enter other number:10.2\n",
      "yes, both are equal\n"
     ]
    }
   ],
   "source": [
    "try:\n",
    "    a=float(input(\"enter a number:\"))\n",
    "    b=float(input(\"enter other number:\"))\n",
    "    if a==b:\n",
    "        print(\"yes, both are equal\")\n",
    "    else:\n",
    "        print(\"nope, they are not equal\")\n",
    "except:\n",
    "    print(\"only float values accepted !!\")"
   ]
  },
  {
   "cell_type": "markdown",
   "metadata": {},
   "source": [
    "## CHECK EQUALITY FOR 3 INPUTS :"
   ]
  },
  {
   "cell_type": "code",
   "execution_count": 11,
   "metadata": {},
   "outputs": [
    {
     "name": "stdout",
     "output_type": "stream",
     "text": [
      "enter a number:1\n",
      "enter other number:2\n",
      "enter another number:3\n",
      "none of them are equal\n"
     ]
    }
   ],
   "source": [
    "try:\n",
    "    a=float(input(\"enter a number:\"))\n",
    "    b=float(input(\"enter other number:\"))\n",
    "    c=float(input(\"enter another number:\"))\n",
    "    \n",
    "    if a==b and b!=c:\n",
    "        print(\"first two numbers are equal\")\n",
    "    elif a==c and c!=b:\n",
    "        print(\"first and third numbers are equal\")\n",
    "    elif b==c and a!=b:\n",
    "        print(\"second and third numbers are equal\")\n",
    "    elif a==b and a==c:\n",
    "        print(\"all are equal\")\n",
    "    else:\n",
    "        print(\"none of them are equal\")\n",
    "    \n",
    "except:\n",
    "    print(\"only float values accepted !!\")"
   ]
  },
  {
   "cell_type": "markdown",
   "metadata": {},
   "source": [
    "## CHECK THE SUM IS FIVE :"
   ]
  },
  {
   "cell_type": "code",
   "execution_count": 13,
   "metadata": {},
   "outputs": [
    {
     "name": "stdout",
     "output_type": "stream",
     "text": [
      "enter a number:1\n",
      "enter other number:1\n",
      "sum is less than five\n"
     ]
    }
   ],
   "source": [
    "a=int(input(\"enter a number:\"))\n",
    "b=int(input(\"enter other number:\"))\n",
    "\n",
    "sum=a+b\n",
    "\n",
    "if sum==5:\n",
    "    print(\"equal\")\n",
    "elif sum>5:\n",
    "    print(\"sum is greater than five\")\n",
    "else:\n",
    "    print(\"sum is less than five\")"
   ]
  },
  {
   "cell_type": "markdown",
   "metadata": {},
   "source": [
    "## MARKS CHECK :"
   ]
  },
  {
   "cell_type": "code",
   "execution_count": 17,
   "metadata": {},
   "outputs": [
    {
     "name": "stdout",
     "output_type": "stream",
     "text": [
      "enter the marks :100\n",
      "YOU PASSED!! ROCK ON..\n"
     ]
    }
   ],
   "source": [
    "a=int(input(\"enter the marks :\"))\n",
    "\n",
    "\n",
    "if a>=35:\n",
    "    print(\"YOU PASSED!! ROCK ON..\")\n",
    "else:\n",
    "    print(\"YOU FAILED..!! \")\n"
   ]
  },
  {
   "cell_type": "markdown",
   "metadata": {},
   "source": [
    "## FUNCTION FOR MAX OF THREE"
   ]
  },
  {
   "cell_type": "code",
   "execution_count": 2,
   "metadata": {},
   "outputs": [],
   "source": [
    "def maxOf():\n",
    "      \n",
    "     \n",
    "    \n",
    "    num1 = float(input(\"Enter first number: \"))\n",
    "    num2 = float(input(\"Enter second number: \"))\n",
    "    num3 = float(input(\"Enter third number: \"))\n",
    " \n",
    "    if (num1 > num2) and (num1 > num3):\n",
    "       largest = num1\n",
    "    elif (num2 > num1) and (num2 > num3):\n",
    "       largest = num2\n",
    "    else:\n",
    "       largest = num3\n",
    " \n",
    "    print(\"The largest number is\",largest)\n",
    "   \n",
    "    \n",
    "    \n",
    "    \n",
    "    "
   ]
  },
  {
   "cell_type": "code",
   "execution_count": 3,
   "metadata": {},
   "outputs": [
    {
     "name": "stdout",
     "output_type": "stream",
     "text": [
      "Enter first number: 55\n",
      "Enter second number: 55\n",
      "Enter third number: 55555\n",
      "The largest number is 55555.0\n"
     ]
    }
   ],
   "source": [
    "maxOf()"
   ]
  },
  {
   "cell_type": "code",
   "execution_count": 4,
   "metadata": {},
   "outputs": [
    {
     "name": "stdout",
     "output_type": "stream",
     "text": [
      "Enter first number: 100\n",
      "Enter second number: 200\n",
      "Enter third number: 0\n",
      "The largest number is 200.0\n"
     ]
    }
   ],
   "source": [
    "maxOf()"
   ]
  },
  {
   "cell_type": "code",
   "execution_count": 23,
   "metadata": {},
   "outputs": [
    {
     "name": "stdout",
     "output_type": "stream",
     "text": [
      "enter a number:10\n",
      "enter other number:10\n",
      "enter another number:10\n",
      "largest is : 10.0\n"
     ]
    }
   ],
   "source": [
    "maxOf()"
   ]
  },
  {
   "cell_type": "code",
   "execution_count": 25,
   "metadata": {},
   "outputs": [
    {
     "name": "stdout",
     "output_type": "stream",
     "text": [
      "enter a number:5\n",
      "enter other number:3\n",
      "enter another number:8\n",
      "largest is : 8.0\n"
     ]
    }
   ],
   "source": [
    "maxOf()"
   ]
  }
 ],
 "metadata": {
  "kernelspec": {
   "display_name": "Python 3",
   "language": "python",
   "name": "python3"
  },
  "language_info": {
   "codemirror_mode": {
    "name": "ipython",
    "version": 3
   },
   "file_extension": ".py",
   "mimetype": "text/x-python",
   "name": "python",
   "nbconvert_exporter": "python",
   "pygments_lexer": "ipython3",
   "version": "3.7.4"
  }
 },
 "nbformat": 4,
 "nbformat_minor": 2
}
