{
 "cells": [
  {
   "cell_type": "markdown",
   "metadata": {},
   "source": [
    "## COUNT OCCURENCES OF CHARS :"
   ]
  },
  {
   "cell_type": "code",
   "execution_count": 1,
   "metadata": {},
   "outputs": [
    {
     "name": "stdout",
     "output_type": "stream",
     "text": [
      "enter a string :str\n",
      "Count of all characters in your string is :\n",
      " {'s': 1, 't': 1, 'r': 1}\n"
     ]
    }
   ],
   "source": [
    "a=input(\"enter a string :\")\n",
    "\n",
    "b=a.strip().lower()\n",
    "\n",
    "   \n",
    "all_freq = {} \n",
    " \n",
    "for i in b: \n",
    "    if i in all_freq: \n",
    "        all_freq[i] += 1\n",
    "    else: \n",
    "        all_freq[i] = 1\n",
    "  \n",
    "\n",
    "print(\"Count of all characters in your string is :\\n \"+  str(all_freq)) "
   ]
  },
  {
   "cell_type": "markdown",
   "metadata": {},
   "source": [
    "## RETURN AVERAGE AND SUM OF DIGITS IN STRING :"
   ]
  },
  {
   "cell_type": "code",
   "execution_count": 15,
   "metadata": {},
   "outputs": [
    {
     "name": "stdout",
     "output_type": "stream",
     "text": [
      "enter a number :577\n",
      "sum: 19\n",
      "average : 6.333333333333333\n",
      "THANK YOU...!!\n"
     ]
    }
   ],
   "source": [
    "\n",
    "        try:   \n",
    "            num=int(input(\"enter a number :\"))\n",
    "            i=0\n",
    "            sum=0\n",
    "            num1=num\n",
    "            while(num>0):\n",
    "                i=i+1\n",
    "                rem=num%10\n",
    "                sum+=rem\n",
    "                num=num//10\n",
    "            print(\"sum:\",sum)\n",
    "            print(\"average :\",sum/i)\n",
    "        except:\n",
    "            print(\"please enter valid input..!!\")\n",
    "        finally:\n",
    "            print(\"THANK YOU...!!\")\n",
    "    "
   ]
  },
  {
   "cell_type": "markdown",
   "metadata": {},
   "source": [
    "## COUNT LOWERCASE,UPPERCASE,DIGITS,SPECIAL CHARS:"
   ]
  },
  {
   "cell_type": "code",
   "execution_count": 2,
   "metadata": {
    "scrolled": true
   },
   "outputs": [
    {
     "name": "stdout",
     "output_type": "stream",
     "text": [
      "enter a string :Strr$$ 2\n",
      "Count of all characters in your stringis :\n",
      " {'S': 1, 't': 1, 'r': 2, '$': 2, ' ': 1, '2': 1}\n"
     ]
    }
   ],
   "source": [
    "a=input(\"enter a string :\") \n",
    "all_freq = {} \n",
    " \n",
    "for i in a: \n",
    "    if i in all_freq: \n",
    "        all_freq[i] += 1\n",
    "    else: \n",
    "        all_freq[i] = 1\n",
    "  \n",
    "\n",
    "print(\"Count of all characters in your string is :\\n \"+  str(all_freq)) "
   ]
  },
  {
   "cell_type": "markdown",
   "metadata": {},
   "source": [
    "## ARRANGE STRINGS LOWERCASE FIRST..:"
   ]
  },
  {
   "cell_type": "code",
   "execution_count": 8,
   "metadata": {},
   "outputs": [
    {
     "name": "stdout",
     "output_type": "stream",
     "text": [
      "enter a string:Sto\n"
     ]
    },
    {
     "data": {
      "text/plain": [
       "['o', 'S', 't']"
      ]
     },
     "execution_count": 8,
     "metadata": {},
     "output_type": "execute_result"
    }
   ],
   "source": [
    "c=input(\"enter a string:\")\n",
    "sorted(c, key=str.lower)\n",
    "        \n",
    "    \n",
    "    \n",
    "    "
   ]
  },
  {
   "cell_type": "markdown",
   "metadata": {},
   "source": [
    "## APPENDING IN MIDDLE :"
   ]
  },
  {
   "cell_type": "code",
   "execution_count": 11,
   "metadata": {},
   "outputs": [
    {
     "name": "stdout",
     "output_type": "stream",
     "text": [
      "enter string 1 :yass\n",
      "enter string 2 :noo\n",
      "yanooss\n"
     ]
    }
   ],
   "source": [
    "s1=input(\"enter string 1 :\")\n",
    "s2=input(\"enter string 2 :\")\n",
    "\n",
    "a=(len(s1)//2)\n",
    "\n",
    "str=s1[:a]+s2+s1[a:]\n",
    "print(str)"
   ]
  }
 ],
 "metadata": {
  "kernelspec": {
   "display_name": "Python 3",
   "language": "python",
   "name": "python3"
  },
  "language_info": {
   "codemirror_mode": {
    "name": "ipython",
    "version": 3
   },
   "file_extension": ".py",
   "mimetype": "text/x-python",
   "name": "python",
   "nbconvert_exporter": "python",
   "pygments_lexer": "ipython3",
   "version": "3.7.4"
  }
 },
 "nbformat": 4,
 "nbformat_minor": 2
}
