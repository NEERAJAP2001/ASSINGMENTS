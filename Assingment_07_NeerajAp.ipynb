{
 "cells": [
  {
   "cell_type": "markdown",
   "metadata": {},
   "source": [
    "## COUNT THE NUMBER OF VOWELS IN STRING :"
   ]
  },
  {
   "cell_type": "code",
   "execution_count": null,
   "metadata": {},
   "outputs": [],
   "source": [
    "a=input(\"enter your string :\")\n",
    "\n",
    "vowels='aeiou'\n",
    "count=0\n",
    "for s in string:\n",
    "    if s in vowels:\n",
    "        count=count+1\n",
    "print(\"\",counr)\n"
   ]
  },
  {
   "cell_type": "markdown",
   "metadata": {},
   "source": [
    "##  REMOVE ALL DUPLICATES :"
   ]
  },
  {
   "cell_type": "code",
   "execution_count": 12,
   "metadata": {},
   "outputs": [
    {
     "name": "stdout",
     "output_type": "stream",
     "text": [
      "enter your string :sttr\n",
      "str\n"
     ]
    }
   ],
   "source": [
    "word=input(\"enter your string :\")\n",
    "NewWord = \" \"\n",
    "index = 0\n",
    "for char in word:\n",
    "    if char != NewWord[index]:\n",
    "            NewWord += char\n",
    "            index += 1\n",
    "     \n",
    "print(NewWord.strip()) \n"
   ]
  },
  {
   "cell_type": "markdown",
   "metadata": {},
   "source": [
    "## PRINT EVEN WORDS :"
   ]
  },
  {
   "cell_type": "code",
   "execution_count": null,
   "metadata": {},
   "outputs": [],
   "source": [
    "d=input(\"enter the string :\")\n",
    "\n",
    "words = d.split() \n",
    "j=0\n",
    "for i in words:\n",
    "    if(len(words[j])%2==0):\n",
    "        print(\"word's are :\",i)\n",
    "        j=j+1"
   ]
  },
  {
   "cell_type": "markdown",
   "metadata": {},
   "source": [
    "## REVERSE WORDS IN STRING :"
   ]
  },
  {
   "cell_type": "code",
   "execution_count": 7,
   "metadata": {},
   "outputs": [
    {
     "name": "stdout",
     "output_type": "stream",
     "text": [
      "enter the string :star is\n",
      " ['is', 'star']\n",
      " ['is', 'star']\n"
     ]
    }
   ],
   "source": [
    "e=input(\"enter the string :\")\n",
    "\n",
    "words = e.split() \n",
    "\n",
    "for i in words:\n",
    "    print(\"\",words[::-1])\n",
    "    "
   ]
  },
  {
   "cell_type": "markdown",
   "metadata": {},
   "source": [
    "## STRING IS BINARY OR NOT...?? :"
   ]
  },
  {
   "cell_type": "code",
   "execution_count": 5,
   "metadata": {},
   "outputs": [
    {
     "name": "stdout",
     "output_type": "stream",
     "text": [
      "enter your string :110\n",
      "ITS A BINARY STRING\n"
     ]
    }
   ],
   "source": [
    "k=input(\"enter your string :\")\n",
    "\n",
    "i=0\n",
    "j=1\n",
    "while(i<len(k)):\n",
    "    if(k[i]==\"0\" or k[i]==\"1\"):\n",
    "        print(\"ITS A BINARY STRING\")\n",
    "        break\n",
    "        \n",
    "    else:\n",
    "        j=0\n",
    "        i=i+1\n",
    "        \n",
    "if(j==0):\n",
    "    print(\"NOPE NOT A BINARY STRING\")\n",
    "    "
   ]
  }
 ],
 "metadata": {
  "kernelspec": {
   "display_name": "Python 3",
   "language": "python",
   "name": "python3"
  },
  "language_info": {
   "codemirror_mode": {
    "name": "ipython",
    "version": 3
   },
   "file_extension": ".py",
   "mimetype": "text/x-python",
   "name": "python",
   "nbconvert_exporter": "python",
   "pygments_lexer": "ipython3",
   "version": "3.7.4"
  }
 },
 "nbformat": 4,
 "nbformat_minor": 2
}
