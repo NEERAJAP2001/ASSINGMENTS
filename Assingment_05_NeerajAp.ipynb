{
 "cells": [
  {
   "cell_type": "markdown",
   "metadata": {},
   "source": [
    "## AREA OF CIRCLE WITH MATH FUNCTION:"
   ]
  },
  {
   "cell_type": "code",
   "execution_count": 2,
   "metadata": {},
   "outputs": [],
   "source": [
    "import math"
   ]
  },
  {
   "cell_type": "code",
   "execution_count": 3,
   "metadata": {},
   "outputs": [
    {
     "name": "stdout",
     "output_type": "stream",
     "text": [
      "enter the radius of circle : 5\n",
      "area of circle is : 78.53981633974483\n"
     ]
    }
   ],
   "source": [
    "rad=int(input(\"enter the radius of circle : \"))\n",
    "area=(math.pi)* (rad**2)\n",
    "\n",
    "print(\"area of circle is :\",area)"
   ]
  },
  {
   "cell_type": "markdown",
   "metadata": {},
   "source": [
    "## AREA OF REGULAR POLYGON USING MATH FUNCTION:"
   ]
  },
  {
   "cell_type": "code",
   "execution_count": 7,
   "metadata": {},
   "outputs": [],
   "source": [
    "import math"
   ]
  },
  {
   "cell_type": "code",
   "execution_count": 10,
   "metadata": {},
   "outputs": [
    {
     "name": "stdout",
     "output_type": "stream",
     "text": [
      "enter number of sides :5\n",
      "enter length of side :2\n",
      "area is : 6.881909602355869\n"
     ]
    }
   ],
   "source": [
    "sides=int(input(\"enter number of sides :\"))\n",
    "len=float(input(\"enter length of side :\"))\n",
    "\n",
    "area=sides*(len**2)/(4*math.tan(math.pi/sides))\n",
    "\n",
    "print(\"area is :\",area)"
   ]
  },
  {
   "cell_type": "markdown",
   "metadata": {},
   "source": [
    "## AREA OF SEGMENT OF CIRCLE :"
   ]
  },
  {
   "cell_type": "code",
   "execution_count": 9,
   "metadata": {},
   "outputs": [],
   "source": [
    "import math"
   ]
  },
  {
   "cell_type": "code",
   "execution_count": 12,
   "metadata": {},
   "outputs": [
    {
     "name": "stdout",
     "output_type": "stream",
     "text": [
      "enter degree of your segment :30\n",
      "enter radius of circle :1\n",
      "the area of segment is : 0.2617993877991494\n"
     ]
    }
   ],
   "source": [
    "deg=int(input(\"enter degree of your segment :\"))\n",
    "rad=float(input(\"enter radius of circle :\"))\n",
    "\n",
    "area=(deg/360)*(math.pi)*(rad**2)\n",
    "\n",
    "\n",
    "print(\"the area of segment is :\",area)\n",
    "        "
   ]
  },
  {
   "cell_type": "markdown",
   "metadata": {},
   "source": [
    "## SHUFFLE THE LIST :"
   ]
  },
  {
   "cell_type": "code",
   "execution_count": 16,
   "metadata": {},
   "outputs": [
    {
     "name": "stdout",
     "output_type": "stream",
     "text": [
      "shuffled list is : [30, 'hello', 2, 100, 3, 40, 1, 'hai']\n"
     ]
    }
   ],
   "source": [
    "import random\n",
    "l1=[100,1,2,3,30,40,\"hai\",\"hello\"]\n",
    "random.shuffle(l1)\n",
    "print(\"shuffled list is :\",l1)\n",
    "\n"
   ]
  },
  {
   "cell_type": "markdown",
   "metadata": {},
   "source": [
    "## GENERATE RANDOM NUMBERS WITH CONDITION:"
   ]
  },
  {
   "cell_type": "code",
   "execution_count": 22,
   "metadata": {},
   "outputs": [
    {
     "name": "stdout",
     "output_type": "stream",
     "text": [
      "601\n"
     ]
    }
   ],
   "source": [
    "import random \n",
    "\n",
    "n=random.randrange(1,1000,50)\n",
    "print(n)\n"
   ]
  },
  {
   "cell_type": "markdown",
   "metadata": {},
   "source": [
    "##  MATH MODULE TO FIND :"
   ]
  },
  {
   "cell_type": "code",
   "execution_count": 32,
   "metadata": {},
   "outputs": [
    {
     "data": {
      "text/plain": [
       "1.0471975511965204"
      ]
     },
     "execution_count": 32,
     "metadata": {},
     "output_type": "execute_result"
    }
   ],
   "source": [
    "import math\n",
    "\n",
    "\n",
    "#sin30 degrees\n",
    "math.sin(math.radians(45))\n",
    "\n",
    "#cos(pi)\n",
    "math.cos(math.pi)\n",
    "\n",
    "#tan90 degrees\n",
    "math.tan(math.radians(90))\n",
    "\n",
    "#5^8\n",
    "math.pow(5,8)\n",
    "\n",
    "#sqrt of 400\n",
    "math.sqrt(400)\n",
    "\n",
    "#5^e\n",
    "math.pow(5,math.e)\n",
    "\n",
    "#log(1024) base 10 and 2\n",
    "\n",
    "math.log10(1024)\n",
    "math.log2(1024)\n",
    "\n",
    "\n",
    "#floor and ciel\n",
    "\n",
    "math.ceil(23.56)\n",
    "math.floor(23.56)\n",
    "\n",
    "\n",
    "#sin(?)=0.8660254037844\n",
    "math.asin(0.8660254037844)\n",
    "\n"
   ]
  },
  {
   "cell_type": "code",
   "execution_count": null,
   "metadata": {},
   "outputs": [],
   "source": []
  }
 ],
 "metadata": {
  "kernelspec": {
   "display_name": "Python 3",
   "language": "python",
   "name": "python3"
  },
  "language_info": {
   "codemirror_mode": {
    "name": "ipython",
    "version": 3
   },
   "file_extension": ".py",
   "mimetype": "text/x-python",
   "name": "python",
   "nbconvert_exporter": "python",
   "pygments_lexer": "ipython3",
   "version": "3.7.4"
  }
 },
 "nbformat": 4,
 "nbformat_minor": 2
}
